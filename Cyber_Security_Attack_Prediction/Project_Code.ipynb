{
 "cells": [
  {
   "cell_type": "code",
   "execution_count": 1,
   "id": "9ef453fe",
   "metadata": {},
   "outputs": [],
   "source": [
    "import pandas as pd\n",
    "from sklearn.model_selection import train_test_split\n",
    "from sklearn.linear_model import LinearRegression\n",
    "from sklearn.compose import ColumnTransformer\n",
    "from sklearn.preprocessing import OneHotEncoder\n",
    "from sklearn.pipeline import Pipeline\n",
    "from sklearn.tree import DecisionTreeClassifier\n",
    "from sklearn.metrics import accuracy_score, r2_score"
   ]
  },
  {
   "cell_type": "code",
   "execution_count": 2,
   "id": "f2ba7f96",
   "metadata": {},
   "outputs": [],
   "source": [
    "df = pd.read_csv('Cybersecurity_attacks.csv')"
   ]
  },
  {
   "cell_type": "code",
   "execution_count": 3,
   "id": "3c5bf34e",
   "metadata": {},
   "outputs": [],
   "source": [
    "df = df.drop(columns=['Attack Reference','Time'])"
   ]
  },
  {
   "cell_type": "code",
   "execution_count": 6,
   "id": "14ce7b6e",
   "metadata": {},
   "outputs": [],
   "source": [
    "# df[\"Attack subcategory\"] = df[\"Attack subcategory\"].fillna(\"Other\")\n",
    "df.dropna(inplace=True)"
   ]
  },
  {
   "cell_type": "code",
   "execution_count": 11,
   "id": "d9b9a06c",
   "metadata": {},
   "outputs": [
    {
     "data": {
      "text/plain": [
       "Attack category       0\n",
       "Attack subcategory    0\n",
       "Protocol              0\n",
       "Source IP             0\n",
       "Source Port           0\n",
       "Destination IP        0\n",
       "Destination Port      0\n",
       "Attack Name           0\n",
       "dtype: int64"
      ]
     },
     "execution_count": 11,
     "metadata": {},
     "output_type": "execute_result"
    }
   ],
   "source": [
    "df.isnull().sum()"
   ]
  },
  {
   "cell_type": "code",
   "execution_count": 12,
   "id": "1f40182a",
   "metadata": {},
   "outputs": [
    {
     "data": {
      "text/html": [
       "<div>\n",
       "<style scoped>\n",
       "    .dataframe tbody tr th:only-of-type {\n",
       "        vertical-align: middle;\n",
       "    }\n",
       "\n",
       "    .dataframe tbody tr th {\n",
       "        vertical-align: top;\n",
       "    }\n",
       "\n",
       "    .dataframe thead th {\n",
       "        text-align: right;\n",
       "    }\n",
       "</style>\n",
       "<table border=\"1\" class=\"dataframe\">\n",
       "  <thead>\n",
       "    <tr style=\"text-align: right;\">\n",
       "      <th></th>\n",
       "      <th>Attack category</th>\n",
       "      <th>Attack subcategory</th>\n",
       "      <th>Protocol</th>\n",
       "      <th>Source IP</th>\n",
       "      <th>Source Port</th>\n",
       "      <th>Destination IP</th>\n",
       "      <th>Destination Port</th>\n",
       "      <th>Attack Name</th>\n",
       "    </tr>\n",
       "  </thead>\n",
       "  <tbody>\n",
       "    <tr>\n",
       "      <th>0</th>\n",
       "      <td>Reconnaissance</td>\n",
       "      <td>HTTP</td>\n",
       "      <td>tcp</td>\n",
       "      <td>175.45.176.0</td>\n",
       "      <td>13284</td>\n",
       "      <td>149.171.126.16</td>\n",
       "      <td>80</td>\n",
       "      <td>Domino Web Server Database Access: /doladmin.n...</td>\n",
       "    </tr>\n",
       "    <tr>\n",
       "      <th>1</th>\n",
       "      <td>Exploits</td>\n",
       "      <td>Unix 'r' Service</td>\n",
       "      <td>udp</td>\n",
       "      <td>175.45.176.3</td>\n",
       "      <td>21223</td>\n",
       "      <td>149.171.126.18</td>\n",
       "      <td>32780</td>\n",
       "      <td>Solaris rwalld Format String Vulnerability (ht...</td>\n",
       "    </tr>\n",
       "    <tr>\n",
       "      <th>2</th>\n",
       "      <td>Exploits</td>\n",
       "      <td>Browser</td>\n",
       "      <td>tcp</td>\n",
       "      <td>175.45.176.2</td>\n",
       "      <td>23357</td>\n",
       "      <td>149.171.126.16</td>\n",
       "      <td>80</td>\n",
       "      <td>Windows Metafile (WMF) SetAbortProc() Code Exe...</td>\n",
       "    </tr>\n",
       "    <tr>\n",
       "      <th>3</th>\n",
       "      <td>Exploits</td>\n",
       "      <td>Miscellaneous Batch</td>\n",
       "      <td>tcp</td>\n",
       "      <td>175.45.176.2</td>\n",
       "      <td>13792</td>\n",
       "      <td>149.171.126.16</td>\n",
       "      <td>5555</td>\n",
       "      <td>HP Data Protector Backup (https://strikecenter...</td>\n",
       "    </tr>\n",
       "    <tr>\n",
       "      <th>4</th>\n",
       "      <td>Exploits</td>\n",
       "      <td>Cisco IOS</td>\n",
       "      <td>tcp</td>\n",
       "      <td>175.45.176.2</td>\n",
       "      <td>26939</td>\n",
       "      <td>149.171.126.10</td>\n",
       "      <td>80</td>\n",
       "      <td>Cisco IOS HTTP Authentication Bypass Level 64 ...</td>\n",
       "    </tr>\n",
       "  </tbody>\n",
       "</table>\n",
       "</div>"
      ],
      "text/plain": [
       "  Attack category   Attack subcategory Protocol     Source IP  Source Port  \\\n",
       "0  Reconnaissance                 HTTP      tcp  175.45.176.0        13284   \n",
       "1        Exploits     Unix 'r' Service      udp  175.45.176.3        21223   \n",
       "2        Exploits              Browser      tcp  175.45.176.2        23357   \n",
       "3        Exploits  Miscellaneous Batch      tcp  175.45.176.2        13792   \n",
       "4        Exploits           Cisco IOS       tcp  175.45.176.2        26939   \n",
       "\n",
       "   Destination IP  Destination Port  \\\n",
       "0  149.171.126.16                80   \n",
       "1  149.171.126.18             32780   \n",
       "2  149.171.126.16                80   \n",
       "3  149.171.126.16              5555   \n",
       "4  149.171.126.10                80   \n",
       "\n",
       "                                         Attack Name  \n",
       "0  Domino Web Server Database Access: /doladmin.n...  \n",
       "1  Solaris rwalld Format String Vulnerability (ht...  \n",
       "2  Windows Metafile (WMF) SetAbortProc() Code Exe...  \n",
       "3  HP Data Protector Backup (https://strikecenter...  \n",
       "4  Cisco IOS HTTP Authentication Bypass Level 64 ...  "
      ]
     },
     "execution_count": 12,
     "metadata": {},
     "output_type": "execute_result"
    }
   ],
   "source": [
    "df.head()"
   ]
  },
  {
   "cell_type": "code",
   "execution_count": 13,
   "id": "6104427c",
   "metadata": {},
   "outputs": [
    {
     "data": {
      "text/html": [
       "<div>\n",
       "<style scoped>\n",
       "    .dataframe tbody tr th:only-of-type {\n",
       "        vertical-align: middle;\n",
       "    }\n",
       "\n",
       "    .dataframe tbody tr th {\n",
       "        vertical-align: top;\n",
       "    }\n",
       "\n",
       "    .dataframe thead th {\n",
       "        text-align: right;\n",
       "    }\n",
       "</style>\n",
       "<table border=\"1\" class=\"dataframe\">\n",
       "  <thead>\n",
       "    <tr style=\"text-align: right;\">\n",
       "      <th></th>\n",
       "      <th>Attack category</th>\n",
       "      <th>Attack subcategory</th>\n",
       "      <th>Protocol</th>\n",
       "      <th>Source IP</th>\n",
       "      <th>Source Port</th>\n",
       "      <th>Destination IP</th>\n",
       "      <th>Destination Port</th>\n",
       "      <th>Attack Name</th>\n",
       "    </tr>\n",
       "  </thead>\n",
       "  <tbody>\n",
       "    <tr>\n",
       "      <th>178026</th>\n",
       "      <td>Generic</td>\n",
       "      <td>IXIA</td>\n",
       "      <td>udp</td>\n",
       "      <td>175.45.176.0</td>\n",
       "      <td>72349</td>\n",
       "      <td>149.171.126.12</td>\n",
       "      <td>53</td>\n",
       "      <td>Microsoft_DNS_Server_ANY_Query_Cache_Weakness_...</td>\n",
       "    </tr>\n",
       "    <tr>\n",
       "      <th>178027</th>\n",
       "      <td>Exploits</td>\n",
       "      <td>Browser</td>\n",
       "      <td>sep</td>\n",
       "      <td>175.45.176.3</td>\n",
       "      <td>67647</td>\n",
       "      <td>149.171.126.18</td>\n",
       "      <td>0</td>\n",
       "      <td>Persits XUpload ActiveX Method MakeHttpRequest...</td>\n",
       "    </tr>\n",
       "    <tr>\n",
       "      <th>178028</th>\n",
       "      <td>Exploits</td>\n",
       "      <td>Office Document</td>\n",
       "      <td>tcp</td>\n",
       "      <td>175.45.176.0</td>\n",
       "      <td>78359</td>\n",
       "      <td>149.171.126.13</td>\n",
       "      <td>110</td>\n",
       "      <td>Microsoft Excel SxView Memory Corruption (POP3...</td>\n",
       "    </tr>\n",
       "    <tr>\n",
       "      <th>178029</th>\n",
       "      <td>Exploits</td>\n",
       "      <td>Browser</td>\n",
       "      <td>tcp</td>\n",
       "      <td>175.45.176.2</td>\n",
       "      <td>68488</td>\n",
       "      <td>149.171.126.19</td>\n",
       "      <td>80</td>\n",
       "      <td>Internet Explorer createTextRange() Code Execu...</td>\n",
       "    </tr>\n",
       "    <tr>\n",
       "      <th>178030</th>\n",
       "      <td>Reconnaissance</td>\n",
       "      <td>ICMP</td>\n",
       "      <td>unas</td>\n",
       "      <td>175.45.176.3</td>\n",
       "      <td>77929</td>\n",
       "      <td>149.171.126.19</td>\n",
       "      <td>0</td>\n",
       "      <td>IP Options: Loose Source Route (IP Option 3) (...</td>\n",
       "    </tr>\n",
       "  </tbody>\n",
       "</table>\n",
       "</div>"
      ],
      "text/plain": [
       "         Attack category Attack subcategory Protocol     Source IP  \\\n",
       "178026           Generic               IXIA      udp  175.45.176.0   \n",
       "178027          Exploits           Browser       sep  175.45.176.3   \n",
       "178028          Exploits    Office Document      tcp  175.45.176.0   \n",
       "178029          Exploits           Browser       tcp  175.45.176.2   \n",
       "178030   Reconnaissance                ICMP     unas  175.45.176.3   \n",
       "\n",
       "        Source Port  Destination IP  Destination Port  \\\n",
       "178026        72349  149.171.126.12                53   \n",
       "178027        67647  149.171.126.18                 0   \n",
       "178028        78359  149.171.126.13               110   \n",
       "178029        68488  149.171.126.19                80   \n",
       "178030        77929  149.171.126.19                 0   \n",
       "\n",
       "                                              Attack Name  \n",
       "178026  Microsoft_DNS_Server_ANY_Query_Cache_Weakness_...  \n",
       "178027  Persits XUpload ActiveX Method MakeHttpRequest...  \n",
       "178028  Microsoft Excel SxView Memory Corruption (POP3...  \n",
       "178029  Internet Explorer createTextRange() Code Execu...  \n",
       "178030  IP Options: Loose Source Route (IP Option 3) (...  "
      ]
     },
     "execution_count": 13,
     "metadata": {},
     "output_type": "execute_result"
    }
   ],
   "source": [
    "df.tail()"
   ]
  },
  {
   "cell_type": "code",
   "execution_count": 14,
   "id": "43045de3",
   "metadata": {},
   "outputs": [
    {
     "data": {
      "text/plain": [
       "1424248"
      ]
     },
     "execution_count": 14,
     "metadata": {},
     "output_type": "execute_result"
    }
   ],
   "source": [
    "df.size"
   ]
  },
  {
   "cell_type": "code",
   "execution_count": 15,
   "id": "249d2303",
   "metadata": {},
   "outputs": [
    {
     "data": {
      "text/plain": [
       "(178031, 8)"
      ]
     },
     "execution_count": 15,
     "metadata": {},
     "output_type": "execute_result"
    }
   ],
   "source": [
    "df.shape"
   ]
  },
  {
   "cell_type": "code",
   "execution_count": 16,
   "id": "bfe903ef",
   "metadata": {},
   "outputs": [
    {
     "data": {
      "text/plain": [
       "Attack category       object\n",
       "Attack subcategory    object\n",
       "Protocol              object\n",
       "Source IP             object\n",
       "Source Port            int64\n",
       "Destination IP        object\n",
       "Destination Port       int64\n",
       "Attack Name           object\n",
       "dtype: object"
      ]
     },
     "execution_count": 16,
     "metadata": {},
     "output_type": "execute_result"
    }
   ],
   "source": [
    "df.dtypes"
   ]
  },
  {
   "cell_type": "code",
   "execution_count": 17,
   "id": "2279dfbe",
   "metadata": {},
   "outputs": [
    {
     "data": {
      "text/plain": [
       "Attack category       0\n",
       "Attack subcategory    0\n",
       "Protocol              0\n",
       "Source IP             0\n",
       "Source Port           0\n",
       "Destination IP        0\n",
       "Destination Port      0\n",
       "Attack Name           0\n",
       "dtype: int64"
      ]
     },
     "execution_count": 17,
     "metadata": {},
     "output_type": "execute_result"
    }
   ],
   "source": [
    "df.isnull().sum()"
   ]
  },
  {
   "cell_type": "code",
   "execution_count": 18,
   "id": "bf940f0e",
   "metadata": {},
   "outputs": [],
   "source": [
    "x = df.drop(columns='Attack Name')\n",
    "y = df.iloc[:,-1]"
   ]
  },
  {
   "cell_type": "code",
   "execution_count": 19,
   "id": "993ce025",
   "metadata": {},
   "outputs": [
    {
     "data": {
      "text/plain": [
       "0         Domino Web Server Database Access: /doladmin.n...\n",
       "1         Solaris rwalld Format String Vulnerability (ht...\n",
       "2         Windows Metafile (WMF) SetAbortProc() Code Exe...\n",
       "3         HP Data Protector Backup (https://strikecenter...\n",
       "4         Cisco IOS HTTP Authentication Bypass Level 64 ...\n",
       "                                ...                        \n",
       "178026    Microsoft_DNS_Server_ANY_Query_Cache_Weakness_...\n",
       "178027    Persits XUpload ActiveX Method MakeHttpRequest...\n",
       "178028    Microsoft Excel SxView Memory Corruption (POP3...\n",
       "178029    Internet Explorer createTextRange() Code Execu...\n",
       "178030    IP Options: Loose Source Route (IP Option 3) (...\n",
       "Name: Attack Name, Length: 178031, dtype: object"
      ]
     },
     "execution_count": 19,
     "metadata": {},
     "output_type": "execute_result"
    }
   ],
   "source": [
    "y"
   ]
  },
  {
   "cell_type": "code",
   "execution_count": 20,
   "id": "6a9c6853",
   "metadata": {},
   "outputs": [],
   "source": [
    "x_train, x_test, y_train, y_test= train_test_split(x,y, test_size=0.2,random_state=2)"
   ]
  },
  {
   "cell_type": "code",
   "execution_count": 21,
   "id": "23e6f412",
   "metadata": {},
   "outputs": [
    {
     "data": {
      "text/plain": [
       "15723     Fuzzer: SMB Session Setup Invalid Native OS (N...\n",
       "155004    Linksys VPN Router Invalid IP Option Denial of...\n",
       "112906    Microsoft_DNS_Server_ANY_Query_Cache_Weakness_...\n",
       "94787     Microsoft_DNS_Server_ANY_Query_Cache_Weakness_...\n",
       "21408     IP Options: Loose Source Route (IP Option 3) (...\n",
       "                                ...                        \n",
       "162091    Mozilla Firefox Integer Overflow (https://stri...\n",
       "175638    Microsoft Remote Desktop Connection Handshake ...\n",
       "95816     Cisco NHRP Denial of Service (https://strikece...\n",
       "100879    Microsoft Visual Basic 6.0 FlexGrid ActiveX Co...\n",
       "89256     SunRPC TCP Portmapper GETPORT Request (DNInode...\n",
       "Name: Attack Name, Length: 142424, dtype: object"
      ]
     },
     "execution_count": 21,
     "metadata": {},
     "output_type": "execute_result"
    }
   ],
   "source": [
    "y_train"
   ]
  },
  {
   "cell_type": "code",
   "execution_count": 22,
   "id": "883f1dcc",
   "metadata": {},
   "outputs": [],
   "source": [
    "ohe = OneHotEncoder()\n",
    "trf1 = ColumnTransformer(transformers=[\n",
    "    ('trf1',OneHotEncoder(sparse=False,drop='first',handle_unknown='ignore'),['Attack category',\n",
    "                                                                              'Attack subcategory',\n",
    "                                                                              'Protocol',\n",
    "                                                                              'Source IP',\n",
    "                                                                              'Destination IP'])\n",
    "],remainder='passthrough')"
   ]
  },
  {
   "cell_type": "code",
   "execution_count": 23,
   "id": "d988ea1b",
   "metadata": {},
   "outputs": [],
   "source": [
    "trf2 = DecisionTreeClassifier()"
   ]
  },
  {
   "cell_type": "code",
   "execution_count": 24,
   "id": "00dd2e80",
   "metadata": {},
   "outputs": [],
   "source": [
    "pipe = Pipeline([\n",
    "    ('trf1',trf1),\n",
    "    ('trf2',trf2)\n",
    "])"
   ]
  },
  {
   "cell_type": "code",
   "execution_count": null,
   "id": "026634c9",
   "metadata": {},
   "outputs": [],
   "source": [
    "pipe.fit(x_train,y_train)"
   ]
  },
  {
   "cell_type": "code",
   "execution_count": 19,
   "id": "f5ee9607",
   "metadata": {},
   "outputs": [
    {
     "name": "stderr",
     "output_type": "stream",
     "text": [
      "/Users/kunalborade/opt/anaconda3/lib/python3.9/site-packages/sklearn/preprocessing/_encoders.py:188: UserWarning: Found unknown categories in columns [1] during transform. These unknown categories will be encoded as all zeros\n",
      "  warnings.warn(\n"
     ]
    }
   ],
   "source": [
    "y_pred = pipe.predict(x_test)"
   ]
  },
  {
   "cell_type": "code",
   "execution_count": 20,
   "id": "7b6867bf",
   "metadata": {},
   "outputs": [
    {
     "data": {
      "text/plain": [
       "0.30378858089701466"
      ]
     },
     "execution_count": 20,
     "metadata": {},
     "output_type": "execute_result"
    }
   ],
   "source": [
    "accuracy_score(y_test,y_pred)"
   ]
  },
  {
   "cell_type": "code",
   "execution_count": 201,
   "id": "78e14e7b",
   "metadata": {},
   "outputs": [],
   "source": [
    "import pickle"
   ]
  },
  {
   "cell_type": "code",
   "execution_count": null,
   "id": "337a8f4a",
   "metadata": {
    "pycharm": {
     "is_executing": true
    }
   },
   "outputs": [],
   "source": [
    "pickle.dump(pipe,open('model_CY.pkl','wb'))"
   ]
  }
 ],
 "metadata": {
  "kernelspec": {
   "display_name": "Python 3 (ipykernel)",
   "language": "python",
   "name": "python3"
  },
  "language_info": {
   "codemirror_mode": {
    "name": "ipython",
    "version": 3
   },
   "file_extension": ".py",
   "mimetype": "text/x-python",
   "name": "python",
   "nbconvert_exporter": "python",
   "pygments_lexer": "ipython3",
   "version": "3.9.12"
  }
 },
 "nbformat": 4,
 "nbformat_minor": 5
}
