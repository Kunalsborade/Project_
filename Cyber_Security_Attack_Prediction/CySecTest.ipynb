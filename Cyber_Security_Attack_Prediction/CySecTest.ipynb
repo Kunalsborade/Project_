{
 "cells": [
  {
   "cell_type": "markdown",
   "metadata": {
    "id": "UXdiasCMN6Ax"
   },
   "source": [
    "# Task : Prediction of Security Threats on Network"
   ]
  },
  {
   "cell_type": "code",
   "execution_count": 9,
   "metadata": {
    "id": "Pmgjr_6WOTF8"
   },
   "outputs": [],
   "source": [
    "# Steps to Follow: \n",
    "\n",
    "# 1) Most targeted Destination IP Address\n",
    "# 2) Most Logical Ports attacked\n",
    "# 3) Most Frequently/common type of Attack\n",
    "# 4) Find the time of the day when attack happend , (odd , hours, day or night)\n",
    "# 5) Find the Pattern"
   ]
  },
  {
   "cell_type": "code",
   "execution_count": 18,
   "metadata": {
    "id": "MSB2T4dm_wLt"
   },
   "outputs": [],
   "source": [
    "import pandas as pd\n",
    "import seaborn as sns\n",
    "import matplotlib.pyplot as plt\n",
    "import ipaddress\n",
    "import numpy as np\n",
    "from scipy import stats\n",
    "\n",
    "# Hypothisis Testing\n",
    "from scipy.stats import chi2_contingency\n",
    "from datetime import datetime, timedelta\n",
    "import math\n",
    "\n",
    "# Gives Missing Values Graph\n",
    "import missingno as msno\n",
    "\n",
    "\n",
    "plt.style.use('ggplot')\n",
    "import warnings\n",
    "warnings.filterwarnings('ignore') "
   ]
  },
  {
   "cell_type": "code",
   "execution_count": 19,
   "metadata": {
    "colab": {
     "base_uri": "https://localhost:8080/"
    },
    "id": "5MqQ7XypAPEW",
    "outputId": "340a66d2-cd93-4f89-efe5-92cfeee6f890"
   },
   "outputs": [
    {
     "data": {
      "text/plain": "(178031, 10)"
     },
     "execution_count": 19,
     "metadata": {},
     "output_type": "execute_result"
    }
   ],
   "source": [
    "data = pd.read_csv(\"Cybersecurity_attacks.csv\")\n",
    "data.shape"
   ]
  },
  {
   "cell_type": "code",
   "execution_count": 20,
   "metadata": {
    "colab": {
     "base_uri": "https://localhost:8080/"
    },
    "id": "czwisgrVEn10",
    "outputId": "85388ae5-27d7-49a8-a3cb-3e255788f79f"
   },
   "outputs": [
    {
     "data": {
      "text/plain": "Index(['Attack category', 'Attack subcategory', 'Protocol', 'Source IP',\n       'Source Port', 'Destination IP', 'Destination Port', 'Attack Name',\n       'Attack Reference', 'Time'],\n      dtype='object')"
     },
     "execution_count": 20,
     "metadata": {},
     "output_type": "execute_result"
    }
   ],
   "source": [
    "data.columns"
   ]
  },
  {
   "cell_type": "code",
   "execution_count": 21,
   "metadata": {
    "colab": {
     "base_uri": "https://localhost:8080/",
     "height": 206
    },
    "id": "Xn6-E205EnyX",
    "outputId": "f2d192ca-1ee6-4aef-b80c-2a74dd6719d9"
   },
   "outputs": [
    {
     "data": {
      "text/plain": "  Attack category   Attack subcategory Protocol     Source IP  Source Port  \\\n0  Reconnaissance                 HTTP      tcp  175.45.176.0        13284   \n1        Exploits     Unix 'r' Service      udp  175.45.176.3        21223   \n2        Exploits              Browser      tcp  175.45.176.2        23357   \n3        Exploits  Miscellaneous Batch      tcp  175.45.176.2        13792   \n4        Exploits           Cisco IOS       tcp  175.45.176.2        26939   \n\n   Destination IP  Destination Port  \\\n0  149.171.126.16                80   \n1  149.171.126.18             32780   \n2  149.171.126.16                80   \n3  149.171.126.16              5555   \n4  149.171.126.10                80   \n\n                                         Attack Name  \\\n0  Domino Web Server Database Access: /doladmin.n...   \n1  Solaris rwalld Format String Vulnerability (ht...   \n2  Windows Metafile (WMF) SetAbortProc() Code Exe...   \n3  HP Data Protector Backup (https://strikecenter...   \n4  Cisco IOS HTTP Authentication Bypass Level 64 ...   \n\n                                    Attack Reference                   Time  \n0                                                  -  1421927414-1421927416  \n1  CVE 2002-0573 (http://cve.mitre.org/cgi-bin/cv...  1421927415-1421927415  \n2  CVE 2005-4560 (http://cve.mitre.org/cgi-bin/cv...  1421927416-1421927416  \n3  CVE 2011-1729 (http://cve.mitre.org/cgi-bin/cv...  1421927417-1421927417  \n4  CVE 2001-0537 (http://cve.mitre.org/cgi-bin/cv...  1421927418-1421927418  ",
      "text/html": "<div>\n<style scoped>\n    .dataframe tbody tr th:only-of-type {\n        vertical-align: middle;\n    }\n\n    .dataframe tbody tr th {\n        vertical-align: top;\n    }\n\n    .dataframe thead th {\n        text-align: right;\n    }\n</style>\n<table border=\"1\" class=\"dataframe\">\n  <thead>\n    <tr style=\"text-align: right;\">\n      <th></th>\n      <th>Attack category</th>\n      <th>Attack subcategory</th>\n      <th>Protocol</th>\n      <th>Source IP</th>\n      <th>Source Port</th>\n      <th>Destination IP</th>\n      <th>Destination Port</th>\n      <th>Attack Name</th>\n      <th>Attack Reference</th>\n      <th>Time</th>\n    </tr>\n  </thead>\n  <tbody>\n    <tr>\n      <th>0</th>\n      <td>Reconnaissance</td>\n      <td>HTTP</td>\n      <td>tcp</td>\n      <td>175.45.176.0</td>\n      <td>13284</td>\n      <td>149.171.126.16</td>\n      <td>80</td>\n      <td>Domino Web Server Database Access: /doladmin.n...</td>\n      <td>-</td>\n      <td>1421927414-1421927416</td>\n    </tr>\n    <tr>\n      <th>1</th>\n      <td>Exploits</td>\n      <td>Unix 'r' Service</td>\n      <td>udp</td>\n      <td>175.45.176.3</td>\n      <td>21223</td>\n      <td>149.171.126.18</td>\n      <td>32780</td>\n      <td>Solaris rwalld Format String Vulnerability (ht...</td>\n      <td>CVE 2002-0573 (http://cve.mitre.org/cgi-bin/cv...</td>\n      <td>1421927415-1421927415</td>\n    </tr>\n    <tr>\n      <th>2</th>\n      <td>Exploits</td>\n      <td>Browser</td>\n      <td>tcp</td>\n      <td>175.45.176.2</td>\n      <td>23357</td>\n      <td>149.171.126.16</td>\n      <td>80</td>\n      <td>Windows Metafile (WMF) SetAbortProc() Code Exe...</td>\n      <td>CVE 2005-4560 (http://cve.mitre.org/cgi-bin/cv...</td>\n      <td>1421927416-1421927416</td>\n    </tr>\n    <tr>\n      <th>3</th>\n      <td>Exploits</td>\n      <td>Miscellaneous Batch</td>\n      <td>tcp</td>\n      <td>175.45.176.2</td>\n      <td>13792</td>\n      <td>149.171.126.16</td>\n      <td>5555</td>\n      <td>HP Data Protector Backup (https://strikecenter...</td>\n      <td>CVE 2011-1729 (http://cve.mitre.org/cgi-bin/cv...</td>\n      <td>1421927417-1421927417</td>\n    </tr>\n    <tr>\n      <th>4</th>\n      <td>Exploits</td>\n      <td>Cisco IOS</td>\n      <td>tcp</td>\n      <td>175.45.176.2</td>\n      <td>26939</td>\n      <td>149.171.126.10</td>\n      <td>80</td>\n      <td>Cisco IOS HTTP Authentication Bypass Level 64 ...</td>\n      <td>CVE 2001-0537 (http://cve.mitre.org/cgi-bin/cv...</td>\n      <td>1421927418-1421927418</td>\n    </tr>\n  </tbody>\n</table>\n</div>"
     },
     "execution_count": 21,
     "metadata": {},
     "output_type": "execute_result"
    }
   ],
   "source": [
    "data.head()"
   ]
  },
  {
   "cell_type": "code",
   "execution_count": 22,
   "metadata": {
    "colab": {
     "base_uri": "https://localhost:8080/",
     "height": 354
    },
    "id": "KHhTQKXwEnux",
    "outputId": "35ab42d3-6a3b-429b-a581-d85834ba2f0f"
   },
   "outputs": [
    {
     "data": {
      "text/plain": "         Attack category Attack subcategory Protocol     Source IP  \\\n178026           Generic               IXIA      udp  175.45.176.0   \n178027          Exploits           Browser       sep  175.45.176.3   \n178028          Exploits    Office Document      tcp  175.45.176.0   \n178029          Exploits           Browser       tcp  175.45.176.2   \n178030   Reconnaissance                ICMP     unas  175.45.176.3   \n\n        Source Port  Destination IP  Destination Port  \\\n178026        72349  149.171.126.12                53   \n178027        67647  149.171.126.18                 0   \n178028        78359  149.171.126.13               110   \n178029        68488  149.171.126.19                80   \n178030        77929  149.171.126.19                 0   \n\n                                              Attack Name  \\\n178026  Microsoft_DNS_Server_ANY_Query_Cache_Weakness_...   \n178027  Persits XUpload ActiveX Method MakeHttpRequest...   \n178028  Microsoft Excel SxView Memory Corruption (POP3...   \n178029  Internet Explorer createTextRange() Code Execu...   \n178030  IP Options: Loose Source Route (IP Option 3) (...   \n\n                                         Attack Reference  \\\n178026  CVE 2009-0234 (http://cve.mitre.org/cgi-bin/cv...   \n178027  CVE 2009-3693 (http://cve.mitre.org/cgi-bin/cv...   \n178028  CVE 2009-3128 (http://cve.mitre.org/cgi-bin/cv...   \n178029  CVE 2006-1359 (http://cve.mitre.org/cgi-bin/cv...   \n178030                                                NaN   \n\n                         Time  Start Time   Last Time  \n178026  1424224338-1424224338  1424224338  1424224338  \n178027  1424249567-1424249567  1424249567  1424249567  \n178028  1424219921-1424219923  1424219921  1424219923  \n178029  1424247789-1424247789  1424247789  1424247789  \n178030  1424230421-1424230421  1424230421  1424230421  ",
      "text/html": "<div>\n<style scoped>\n    .dataframe tbody tr th:only-of-type {\n        vertical-align: middle;\n    }\n\n    .dataframe tbody tr th {\n        vertical-align: top;\n    }\n\n    .dataframe thead th {\n        text-align: right;\n    }\n</style>\n<table border=\"1\" class=\"dataframe\">\n  <thead>\n    <tr style=\"text-align: right;\">\n      <th></th>\n      <th>Attack category</th>\n      <th>Attack subcategory</th>\n      <th>Protocol</th>\n      <th>Source IP</th>\n      <th>Source Port</th>\n      <th>Destination IP</th>\n      <th>Destination Port</th>\n      <th>Attack Name</th>\n      <th>Attack Reference</th>\n      <th>Time</th>\n      <th>Start Time</th>\n      <th>Last Time</th>\n    </tr>\n  </thead>\n  <tbody>\n    <tr>\n      <th>178026</th>\n      <td>Generic</td>\n      <td>IXIA</td>\n      <td>udp</td>\n      <td>175.45.176.0</td>\n      <td>72349</td>\n      <td>149.171.126.12</td>\n      <td>53</td>\n      <td>Microsoft_DNS_Server_ANY_Query_Cache_Weakness_...</td>\n      <td>CVE 2009-0234 (http://cve.mitre.org/cgi-bin/cv...</td>\n      <td>1424224338-1424224338</td>\n      <td>1424224338</td>\n      <td>1424224338</td>\n    </tr>\n    <tr>\n      <th>178027</th>\n      <td>Exploits</td>\n      <td>Browser</td>\n      <td>sep</td>\n      <td>175.45.176.3</td>\n      <td>67647</td>\n      <td>149.171.126.18</td>\n      <td>0</td>\n      <td>Persits XUpload ActiveX Method MakeHttpRequest...</td>\n      <td>CVE 2009-3693 (http://cve.mitre.org/cgi-bin/cv...</td>\n      <td>1424249567-1424249567</td>\n      <td>1424249567</td>\n      <td>1424249567</td>\n    </tr>\n    <tr>\n      <th>178028</th>\n      <td>Exploits</td>\n      <td>Office Document</td>\n      <td>tcp</td>\n      <td>175.45.176.0</td>\n      <td>78359</td>\n      <td>149.171.126.13</td>\n      <td>110</td>\n      <td>Microsoft Excel SxView Memory Corruption (POP3...</td>\n      <td>CVE 2009-3128 (http://cve.mitre.org/cgi-bin/cv...</td>\n      <td>1424219921-1424219923</td>\n      <td>1424219921</td>\n      <td>1424219923</td>\n    </tr>\n    <tr>\n      <th>178029</th>\n      <td>Exploits</td>\n      <td>Browser</td>\n      <td>tcp</td>\n      <td>175.45.176.2</td>\n      <td>68488</td>\n      <td>149.171.126.19</td>\n      <td>80</td>\n      <td>Internet Explorer createTextRange() Code Execu...</td>\n      <td>CVE 2006-1359 (http://cve.mitre.org/cgi-bin/cv...</td>\n      <td>1424247789-1424247789</td>\n      <td>1424247789</td>\n      <td>1424247789</td>\n    </tr>\n    <tr>\n      <th>178030</th>\n      <td>Reconnaissance</td>\n      <td>ICMP</td>\n      <td>unas</td>\n      <td>175.45.176.3</td>\n      <td>77929</td>\n      <td>149.171.126.19</td>\n      <td>0</td>\n      <td>IP Options: Loose Source Route (IP Option 3) (...</td>\n      <td>NaN</td>\n      <td>1424230421-1424230421</td>\n      <td>1424230421</td>\n      <td>1424230421</td>\n    </tr>\n  </tbody>\n</table>\n</div>"
     },
     "execution_count": 22,
     "metadata": {},
     "output_type": "execute_result"
    }
   ],
   "source": [
    "data[['Start Time', 'Last Time']] = data['Time'].str.split(\"-\", expand = True)\n",
    "data.tail()"
   ]
  },
  {
   "cell_type": "code",
   "execution_count": 23,
   "metadata": {
    "colab": {
     "base_uri": "https://localhost:8080/",
     "height": 206
    },
    "id": "-9PW2bM4EnpV",
    "outputId": "dcd22e79-a243-4244-fcd5-0adbf590c136"
   },
   "outputs": [
    {
     "ename": "KeyError",
     "evalue": "\"['.'] not found in axis\"",
     "output_type": "error",
     "traceback": [
      "\u001B[0;31m---------------------------------------------------------------------------\u001B[0m",
      "\u001B[0;31mKeyError\u001B[0m                                  Traceback (most recent call last)",
      "Input \u001B[0;32mIn [23]\u001B[0m, in \u001B[0;36m<cell line: 1>\u001B[0;34m()\u001B[0m\n\u001B[0;32m----> 1\u001B[0m df \u001B[38;5;241m=\u001B[39m \u001B[43mdata\u001B[49m\u001B[38;5;241;43m.\u001B[39;49m\u001B[43mdrop\u001B[49m\u001B[43m(\u001B[49m\u001B[43m[\u001B[49m\u001B[38;5;124;43m'\u001B[39;49m\u001B[38;5;124;43m.\u001B[39;49m\u001B[38;5;124;43m'\u001B[39;49m\u001B[43m,\u001B[49m\u001B[43m \u001B[49m\u001B[38;5;124;43m'\u001B[39;49m\u001B[38;5;124;43mTime\u001B[39;49m\u001B[38;5;124;43m'\u001B[39;49m\u001B[43m]\u001B[49m\u001B[43m,\u001B[49m\u001B[43m \u001B[49m\u001B[43maxis\u001B[49m\u001B[43m \u001B[49m\u001B[38;5;241;43m=\u001B[39;49m\u001B[43m \u001B[49m\u001B[38;5;241;43m1\u001B[39;49m\u001B[43m)\u001B[49m\n\u001B[1;32m      2\u001B[0m df\u001B[38;5;241m.\u001B[39mhead()\n",
      "File \u001B[0;32m~/opt/anaconda3/lib/python3.9/site-packages/pandas/util/_decorators.py:311\u001B[0m, in \u001B[0;36mdeprecate_nonkeyword_arguments.<locals>.decorate.<locals>.wrapper\u001B[0;34m(*args, **kwargs)\u001B[0m\n\u001B[1;32m    305\u001B[0m \u001B[38;5;28;01mif\u001B[39;00m \u001B[38;5;28mlen\u001B[39m(args) \u001B[38;5;241m>\u001B[39m num_allow_args:\n\u001B[1;32m    306\u001B[0m     warnings\u001B[38;5;241m.\u001B[39mwarn(\n\u001B[1;32m    307\u001B[0m         msg\u001B[38;5;241m.\u001B[39mformat(arguments\u001B[38;5;241m=\u001B[39marguments),\n\u001B[1;32m    308\u001B[0m         \u001B[38;5;167;01mFutureWarning\u001B[39;00m,\n\u001B[1;32m    309\u001B[0m         stacklevel\u001B[38;5;241m=\u001B[39mstacklevel,\n\u001B[1;32m    310\u001B[0m     )\n\u001B[0;32m--> 311\u001B[0m \u001B[38;5;28;01mreturn\u001B[39;00m \u001B[43mfunc\u001B[49m\u001B[43m(\u001B[49m\u001B[38;5;241;43m*\u001B[39;49m\u001B[43margs\u001B[49m\u001B[43m,\u001B[49m\u001B[43m \u001B[49m\u001B[38;5;241;43m*\u001B[39;49m\u001B[38;5;241;43m*\u001B[39;49m\u001B[43mkwargs\u001B[49m\u001B[43m)\u001B[49m\n",
      "File \u001B[0;32m~/opt/anaconda3/lib/python3.9/site-packages/pandas/core/frame.py:4954\u001B[0m, in \u001B[0;36mDataFrame.drop\u001B[0;34m(self, labels, axis, index, columns, level, inplace, errors)\u001B[0m\n\u001B[1;32m   4806\u001B[0m \u001B[38;5;129m@deprecate_nonkeyword_arguments\u001B[39m(version\u001B[38;5;241m=\u001B[39m\u001B[38;5;28;01mNone\u001B[39;00m, allowed_args\u001B[38;5;241m=\u001B[39m[\u001B[38;5;124m\"\u001B[39m\u001B[38;5;124mself\u001B[39m\u001B[38;5;124m\"\u001B[39m, \u001B[38;5;124m\"\u001B[39m\u001B[38;5;124mlabels\u001B[39m\u001B[38;5;124m\"\u001B[39m])\n\u001B[1;32m   4807\u001B[0m \u001B[38;5;28;01mdef\u001B[39;00m \u001B[38;5;21mdrop\u001B[39m(\n\u001B[1;32m   4808\u001B[0m     \u001B[38;5;28mself\u001B[39m,\n\u001B[0;32m   (...)\u001B[0m\n\u001B[1;32m   4815\u001B[0m     errors: \u001B[38;5;28mstr\u001B[39m \u001B[38;5;241m=\u001B[39m \u001B[38;5;124m\"\u001B[39m\u001B[38;5;124mraise\u001B[39m\u001B[38;5;124m\"\u001B[39m,\n\u001B[1;32m   4816\u001B[0m ):\n\u001B[1;32m   4817\u001B[0m     \u001B[38;5;124;03m\"\"\"\u001B[39;00m\n\u001B[1;32m   4818\u001B[0m \u001B[38;5;124;03m    Drop specified labels from rows or columns.\u001B[39;00m\n\u001B[1;32m   4819\u001B[0m \n\u001B[0;32m   (...)\u001B[0m\n\u001B[1;32m   4952\u001B[0m \u001B[38;5;124;03m            weight  1.0     0.8\u001B[39;00m\n\u001B[1;32m   4953\u001B[0m \u001B[38;5;124;03m    \"\"\"\u001B[39;00m\n\u001B[0;32m-> 4954\u001B[0m     \u001B[38;5;28;01mreturn\u001B[39;00m \u001B[38;5;28;43msuper\u001B[39;49m\u001B[43m(\u001B[49m\u001B[43m)\u001B[49m\u001B[38;5;241;43m.\u001B[39;49m\u001B[43mdrop\u001B[49m\u001B[43m(\u001B[49m\n\u001B[1;32m   4955\u001B[0m \u001B[43m        \u001B[49m\u001B[43mlabels\u001B[49m\u001B[38;5;241;43m=\u001B[39;49m\u001B[43mlabels\u001B[49m\u001B[43m,\u001B[49m\n\u001B[1;32m   4956\u001B[0m \u001B[43m        \u001B[49m\u001B[43maxis\u001B[49m\u001B[38;5;241;43m=\u001B[39;49m\u001B[43maxis\u001B[49m\u001B[43m,\u001B[49m\n\u001B[1;32m   4957\u001B[0m \u001B[43m        \u001B[49m\u001B[43mindex\u001B[49m\u001B[38;5;241;43m=\u001B[39;49m\u001B[43mindex\u001B[49m\u001B[43m,\u001B[49m\n\u001B[1;32m   4958\u001B[0m \u001B[43m        \u001B[49m\u001B[43mcolumns\u001B[49m\u001B[38;5;241;43m=\u001B[39;49m\u001B[43mcolumns\u001B[49m\u001B[43m,\u001B[49m\n\u001B[1;32m   4959\u001B[0m \u001B[43m        \u001B[49m\u001B[43mlevel\u001B[49m\u001B[38;5;241;43m=\u001B[39;49m\u001B[43mlevel\u001B[49m\u001B[43m,\u001B[49m\n\u001B[1;32m   4960\u001B[0m \u001B[43m        \u001B[49m\u001B[43minplace\u001B[49m\u001B[38;5;241;43m=\u001B[39;49m\u001B[43minplace\u001B[49m\u001B[43m,\u001B[49m\n\u001B[1;32m   4961\u001B[0m \u001B[43m        \u001B[49m\u001B[43merrors\u001B[49m\u001B[38;5;241;43m=\u001B[39;49m\u001B[43merrors\u001B[49m\u001B[43m,\u001B[49m\n\u001B[1;32m   4962\u001B[0m \u001B[43m    \u001B[49m\u001B[43m)\u001B[49m\n",
      "File \u001B[0;32m~/opt/anaconda3/lib/python3.9/site-packages/pandas/core/generic.py:4267\u001B[0m, in \u001B[0;36mNDFrame.drop\u001B[0;34m(self, labels, axis, index, columns, level, inplace, errors)\u001B[0m\n\u001B[1;32m   4265\u001B[0m \u001B[38;5;28;01mfor\u001B[39;00m axis, labels \u001B[38;5;129;01min\u001B[39;00m axes\u001B[38;5;241m.\u001B[39mitems():\n\u001B[1;32m   4266\u001B[0m     \u001B[38;5;28;01mif\u001B[39;00m labels \u001B[38;5;129;01mis\u001B[39;00m \u001B[38;5;129;01mnot\u001B[39;00m \u001B[38;5;28;01mNone\u001B[39;00m:\n\u001B[0;32m-> 4267\u001B[0m         obj \u001B[38;5;241m=\u001B[39m \u001B[43mobj\u001B[49m\u001B[38;5;241;43m.\u001B[39;49m\u001B[43m_drop_axis\u001B[49m\u001B[43m(\u001B[49m\u001B[43mlabels\u001B[49m\u001B[43m,\u001B[49m\u001B[43m \u001B[49m\u001B[43maxis\u001B[49m\u001B[43m,\u001B[49m\u001B[43m \u001B[49m\u001B[43mlevel\u001B[49m\u001B[38;5;241;43m=\u001B[39;49m\u001B[43mlevel\u001B[49m\u001B[43m,\u001B[49m\u001B[43m \u001B[49m\u001B[43merrors\u001B[49m\u001B[38;5;241;43m=\u001B[39;49m\u001B[43merrors\u001B[49m\u001B[43m)\u001B[49m\n\u001B[1;32m   4269\u001B[0m \u001B[38;5;28;01mif\u001B[39;00m inplace:\n\u001B[1;32m   4270\u001B[0m     \u001B[38;5;28mself\u001B[39m\u001B[38;5;241m.\u001B[39m_update_inplace(obj)\n",
      "File \u001B[0;32m~/opt/anaconda3/lib/python3.9/site-packages/pandas/core/generic.py:4311\u001B[0m, in \u001B[0;36mNDFrame._drop_axis\u001B[0;34m(self, labels, axis, level, errors, consolidate, only_slice)\u001B[0m\n\u001B[1;32m   4309\u001B[0m         new_axis \u001B[38;5;241m=\u001B[39m axis\u001B[38;5;241m.\u001B[39mdrop(labels, level\u001B[38;5;241m=\u001B[39mlevel, errors\u001B[38;5;241m=\u001B[39merrors)\n\u001B[1;32m   4310\u001B[0m     \u001B[38;5;28;01melse\u001B[39;00m:\n\u001B[0;32m-> 4311\u001B[0m         new_axis \u001B[38;5;241m=\u001B[39m \u001B[43maxis\u001B[49m\u001B[38;5;241;43m.\u001B[39;49m\u001B[43mdrop\u001B[49m\u001B[43m(\u001B[49m\u001B[43mlabels\u001B[49m\u001B[43m,\u001B[49m\u001B[43m \u001B[49m\u001B[43merrors\u001B[49m\u001B[38;5;241;43m=\u001B[39;49m\u001B[43merrors\u001B[49m\u001B[43m)\u001B[49m\n\u001B[1;32m   4312\u001B[0m     indexer \u001B[38;5;241m=\u001B[39m axis\u001B[38;5;241m.\u001B[39mget_indexer(new_axis)\n\u001B[1;32m   4314\u001B[0m \u001B[38;5;66;03m# Case for non-unique axis\u001B[39;00m\n\u001B[1;32m   4315\u001B[0m \u001B[38;5;28;01melse\u001B[39;00m:\n",
      "File \u001B[0;32m~/opt/anaconda3/lib/python3.9/site-packages/pandas/core/indexes/base.py:6644\u001B[0m, in \u001B[0;36mIndex.drop\u001B[0;34m(self, labels, errors)\u001B[0m\n\u001B[1;32m   6642\u001B[0m \u001B[38;5;28;01mif\u001B[39;00m mask\u001B[38;5;241m.\u001B[39many():\n\u001B[1;32m   6643\u001B[0m     \u001B[38;5;28;01mif\u001B[39;00m errors \u001B[38;5;241m!=\u001B[39m \u001B[38;5;124m\"\u001B[39m\u001B[38;5;124mignore\u001B[39m\u001B[38;5;124m\"\u001B[39m:\n\u001B[0;32m-> 6644\u001B[0m         \u001B[38;5;28;01mraise\u001B[39;00m \u001B[38;5;167;01mKeyError\u001B[39;00m(\u001B[38;5;124mf\u001B[39m\u001B[38;5;124m\"\u001B[39m\u001B[38;5;132;01m{\u001B[39;00m\u001B[38;5;28mlist\u001B[39m(labels[mask])\u001B[38;5;132;01m}\u001B[39;00m\u001B[38;5;124m not found in axis\u001B[39m\u001B[38;5;124m\"\u001B[39m)\n\u001B[1;32m   6645\u001B[0m     indexer \u001B[38;5;241m=\u001B[39m indexer[\u001B[38;5;241m~\u001B[39mmask]\n\u001B[1;32m   6646\u001B[0m \u001B[38;5;28;01mreturn\u001B[39;00m \u001B[38;5;28mself\u001B[39m\u001B[38;5;241m.\u001B[39mdelete(indexer)\n",
      "\u001B[0;31mKeyError\u001B[0m: \"['.'] not found in axis\""
     ]
    }
   ],
   "source": [
    "df = data.drop(['.', 'Time'], axis = 1)\n",
    "df.head()"
   ]
  },
  {
   "cell_type": "code",
   "execution_count": null,
   "metadata": {
    "colab": {
     "base_uri": "https://localhost:8080/",
     "height": 559
    },
    "id": "n71mbGSSEnmR",
    "outputId": "91164a7b-11fb-4ccc-b269-1922b3f58ba9"
   },
   "outputs": [],
   "source": [
    "figure, (ax1, ax2) = plt.subplots(1, 2, figsize = (15, 5))\n",
    "msno.matrix(df, ax = ax1, sparkline=False) \n",
    "msno.bar(df, ax = ax2, color = (0.15, 0.35, 0.65)) \n",
    "plt.show()\n"
   ]
  },
  {
   "cell_type": "code",
   "execution_count": 10,
   "metadata": {
    "colab": {
     "base_uri": "https://localhost:8080/"
    },
    "id": "wk6zA7o3Enj3",
    "outputId": "a841dded-6cc9-4cb9-e951-eb999ebf2add"
   },
   "outputs": [
    {
     "data": {
      "text/plain": "Attack category           0\nAttack subcategory     4192\nProtocol                  0\nSource IP                 0\nSource Port               0\nDestination IP            0\nDestination Port          0\nAttack Name               0\nAttack Reference      51745\nTime                      0\nStart Time                0\nLast Time                 0\ndtype: int64"
     },
     "execution_count": 10,
     "metadata": {},
     "output_type": "execute_result"
    }
   ],
   "source": [
    "data.isnull().sum()"
   ]
  },
  {
   "cell_type": "code",
   "execution_count": 11,
   "metadata": {
    "id": "XqyrEIQK_anm"
   },
   "outputs": [
    {
     "ename": "NameError",
     "evalue": "name 'df' is not defined",
     "output_type": "error",
     "traceback": [
      "\u001B[0;31m---------------------------------------------------------------------------\u001B[0m",
      "\u001B[0;31mNameError\u001B[0m                                 Traceback (most recent call last)",
      "Input \u001B[0;32mIn [11]\u001B[0m, in \u001B[0;36m<cell line: 3>\u001B[0;34m()\u001B[0m\n\u001B[1;32m      1\u001B[0m \u001B[38;5;66;03m# Update Missing values with Not Registered\u001B[39;00m\n\u001B[0;32m----> 3\u001B[0m df[\u001B[38;5;124m\"\u001B[39m\u001B[38;5;124mAttack subcategory\u001B[39m\u001B[38;5;124m\"\u001B[39m] \u001B[38;5;241m=\u001B[39m \u001B[43mdf\u001B[49m[\u001B[38;5;124m\"\u001B[39m\u001B[38;5;124mAttack subcategory\u001B[39m\u001B[38;5;124m\"\u001B[39m]\u001B[38;5;241m.\u001B[39mfillna(\u001B[38;5;124m\"\u001B[39m\u001B[38;5;124mNot Registered\u001B[39m\u001B[38;5;124m\"\u001B[39m)\n",
      "\u001B[0;31mNameError\u001B[0m: name 'df' is not defined"
     ]
    }
   ],
   "source": [
    "# Update Missing values with Not Registered\n",
    "\n",
    "df[\"Attack subcategory\"] = df[\"Attack subcategory\"].fillna(\"Not Registered\")"
   ]
  },
  {
   "cell_type": "code",
   "execution_count": 12,
   "metadata": {
    "colab": {
     "base_uri": "https://localhost:8080/"
    },
    "id": "M7IEoW5YEnhB",
    "outputId": "e3cce7ef-2eb3-4d19-fa92-16a8d769cade"
   },
   "outputs": [
    {
     "ename": "NameError",
     "evalue": "name 'df' is not defined",
     "output_type": "error",
     "traceback": [
      "\u001B[0;31m---------------------------------------------------------------------------\u001B[0m",
      "\u001B[0;31mNameError\u001B[0m                                 Traceback (most recent call last)",
      "Input \u001B[0;32mIn [12]\u001B[0m, in \u001B[0;36m<cell line: 6>\u001B[0;34m()\u001B[0m\n\u001B[1;32m      1\u001B[0m \u001B[38;5;66;03m# Update Missing values with NaN\u001B[39;00m\n\u001B[1;32m      2\u001B[0m \n\u001B[1;32m      3\u001B[0m \u001B[38;5;66;03m# df['Attack Reference'] = df['Attack Reference'].fillna(\"NaN\")\u001B[39;00m\n\u001B[1;32m      4\u001B[0m \u001B[38;5;66;03m# df['Start Time'] = df['Start Time'].fillna(\"NaN\")\u001B[39;00m\n\u001B[1;32m      5\u001B[0m \u001B[38;5;66;03m# df['Last Time'] = df['Last Time'].fillna(\"NaN\")\u001B[39;00m\n\u001B[0;32m----> 6\u001B[0m \u001B[43mdf\u001B[49m\u001B[38;5;241m.\u001B[39misnull()\u001B[38;5;241m.\u001B[39msum()\n",
      "\u001B[0;31mNameError\u001B[0m: name 'df' is not defined"
     ]
    }
   ],
   "source": [
    "# Update Missing values with NaN\n",
    "\n",
    "# df['Attack Reference'] = df['Attack Reference'].fillna(\"NaN\")\n",
    "# df['Start Time'] = df['Start Time'].fillna(\"NaN\")\n",
    "# df['Last Time'] = df['Last Time'].fillna(\"NaN\")\n",
    "df.isnull().sum()"
   ]
  },
  {
   "cell_type": "code",
   "execution_count": null,
   "metadata": {
    "colab": {
     "base_uri": "https://localhost:8080/"
    },
    "id": "v0JYdZnJLsoU",
    "outputId": "93587c00-c9cb-4bd3-8e2c-863e9af9b5ee"
   },
   "outputs": [],
   "source": [
    "df[pd.isnull(df).any(axis=1)].shape"
   ]
  },
  {
   "cell_type": "code",
   "execution_count": null,
   "metadata": {
    "colab": {
     "base_uri": "https://localhost:8080/"
    },
    "id": "GKVhXEnSLsk3",
    "outputId": "75e8dc1a-dbe7-427e-c075-618d6488f2e3"
   },
   "outputs": [],
   "source": [
    "df[df.duplicated()].shape\n",
    "# df[df.duplicated()]\n",
    "\n"
   ]
  },
  {
   "cell_type": "code",
   "execution_count": null,
   "metadata": {
    "colab": {
     "base_uri": "https://localhost:8080/"
    },
    "id": "xoWWKc-U_4Nu",
    "outputId": "317bc5c3-d595-4143-83c9-ab4714bf34bb"
   },
   "outputs": [],
   "source": [
    "print('Before Cleaning of data: ' + str(df.shape))\n",
    "df = df.drop(df[df.duplicated()].index)\n",
    "print('After Cleaning of data: ' + str(df.shape))"
   ]
  },
  {
   "cell_type": "code",
   "execution_count": null,
   "metadata": {
    "colab": {
     "base_uri": "https://localhost:8080/",
     "height": 49
    },
    "id": "wQoASMR7AGYn",
    "outputId": "67d9e0b1-bf6c-46fa-f59c-929527069749"
   },
   "outputs": [],
   "source": [
    "df[df.duplicated()]"
   ]
  },
  {
   "cell_type": "markdown",
   "metadata": {
    "id": "8gKq4FUtM0D7"
   },
   "source": [
    "Some ports are less than 0 and more than 65535"
   ]
  },
  {
   "cell_type": "code",
   "execution_count": null,
   "metadata": {
    "colab": {
     "base_uri": "https://localhost:8080/",
     "height": 424
    },
    "id": "iA8fWzD6Lsib",
    "outputId": "0d95038f-aa24-49b3-bad7-5d6e66f3bd90"
   },
   "outputs": [],
   "source": [
    "# Count the source and destination ports which are above or below the Limit\n",
    "\n",
    "invalid_SP = (df['Source Port'] < 0) | (df['Source Port'] > 65535)\n",
    "invalid_DP = (df['Destination Port'] < 0) | (df['Destination Port'] > 65535)\n",
    "df[invalid_SP | invalid_DP].shape"
   ]
  },
  {
   "cell_type": "code",
   "execution_count": null,
   "metadata": {
    "id": "BAC36jTbLsgV"
   },
   "outputs": [],
   "source": [
    "# Remove the invalid Source and Destination Ports\n",
    "\n",
    "df = df[~(invalid_SP | invalid_DP)].reset_index(drop=True)"
   ]
  },
  {
   "cell_type": "code",
   "execution_count": null,
   "metadata": {
    "colab": {
     "base_uri": "https://localhost:8080/"
    },
    "id": "_m2kpyxLLsen",
    "outputId": "cd3fcba6-74ec-4e4e-f29c-22f1a3a9d70a"
   },
   "outputs": [],
   "source": [
    "print(\"Total Number of Different Portocol : \", len(df['Protocol'].unique()))\n",
    "print(\"Total Number of Different Attack category : \", len(df['Attack category'].unique()))\n",
    "\n",
    "df['Protocol'].unique()[:15]\n"
   ]
  },
  {
   "cell_type": "code",
   "execution_count": null,
   "metadata": {
    "colab": {
     "base_uri": "https://localhost:8080/"
    },
    "id": "SKTowODdAh3Q",
    "outputId": "bbfa1608-7854-45a7-900c-ec400215b424"
   },
   "outputs": [],
   "source": [
    "df['Attack category'].unique()[:15]"
   ]
  },
  {
   "cell_type": "code",
   "execution_count": null,
   "metadata": {
    "id": "MYMhRJ4MLsc7"
   },
   "outputs": [],
   "source": [
    "# Make All Protocols and Categories in Upper case\n",
    "\n",
    "df['Protocol'] = df['Protocol'].str.upper().str.strip()\n",
    "df['Attack category'] = df['Attack category'].str.upper().str.strip()\n",
    "df['Attack category'] = df['Attack category'].str.strip().replace('BACKDOORS', 'BACKDOOR')\n",
    "# df"
   ]
  },
  {
   "cell_type": "code",
   "execution_count": null,
   "metadata": {
    "colab": {
     "base_uri": "https://localhost:8080/"
    },
    "id": "3j4D6tZhLsam",
    "outputId": "231ea06d-7a23-4edd-8b00-adfc126b3a81"
   },
   "outputs": [],
   "source": [
    "# Unique Protocols and Categories after filtering\n",
    "\n",
    "print(df['Protocol'].unique())\n",
    "print(df['Attack category'].unique())"
   ]
  },
  {
   "cell_type": "code",
   "execution_count": null,
   "metadata": {
    "colab": {
     "base_uri": "https://localhost:8080/"
    },
    "id": "_tMll6s6LsYO",
    "outputId": "fbd5eb3f-26b6-4039-cc0c-4396cf8d798e"
   },
   "outputs": [],
   "source": [
    "# Check how Many Unique Protocol Present Now.\n",
    "\n",
    "print('Total number of different protocols:', len(df['Protocol'].unique()))\n",
    "print('Total number of different Attack categories:', len(df['Attack category'].unique()))"
   ]
  },
  {
   "cell_type": "code",
   "execution_count": null,
   "metadata": {
    "colab": {
     "base_uri": "https://localhost:8080/"
    },
    "id": "Sri7hrvtLsWB",
    "outputId": "18bae948-6727-4c75-ccee-6237f57913e1"
   },
   "outputs": [],
   "source": [
    "df[pd.isnull(df['Attack Reference'])].shape"
   ]
  },
  {
   "cell_type": "code",
   "execution_count": null,
   "metadata": {
    "colab": {
     "base_uri": "https://localhost:8080/"
    },
    "id": "pVOayryfLsTp",
    "outputId": "e59af299-6e3d-4d56-ef18-f75e5734592f"
   },
   "outputs": [],
   "source": [
    "# No of Attack Categories in Which Attack Reference is missing\n",
    "\n",
    "print(df[pd.isnull(df['Attack Reference'])]['Attack category'].value_counts())"
   ]
  },
  {
   "cell_type": "code",
   "execution_count": null,
   "metadata": {
    "colab": {
     "base_uri": "https://localhost:8080/"
    },
    "id": "rdjcSSp3LsRg",
    "outputId": "9f22f639-58df-42e3-84f9-a4fdee09bec1"
   },
   "outputs": [],
   "source": [
    "\n",
    "print(df['Attack category'].value_counts())"
   ]
  },
  {
   "cell_type": "code",
   "execution_count": null,
   "metadata": {
    "colab": {
     "base_uri": "https://localhost:8080/"
    },
    "id": "kCP8lXqLLsOw",
    "outputId": "ad6b83ec-ca7e-45db-ded7-2fd87db471b8"
   },
   "outputs": [],
   "source": [
    "# Percentage of missing values in Attack Reference per Attack Category\n",
    "\n",
    "((df[pd.isnull(df['Attack Reference'])]['Attack category'].value_counts()/df['Attack category'].value_counts())*100).dropna().sort_values(ascending=False)"
   ]
  },
  {
   "cell_type": "code",
   "execution_count": null,
   "metadata": {
    "colab": {
     "base_uri": "https://localhost:8080/",
     "height": 206
    },
    "id": "WJvN0QRhCGRI",
    "outputId": "3a6161fc-2cf2-43d5-e7cc-a80e4a3cda6c"
   },
   "outputs": [],
   "source": [
    "df.head()"
   ]
  },
  {
   "cell_type": "markdown",
   "metadata": {
    "id": "_UuBpy1sStWF"
   },
   "source": [
    "<hr>\n",
    "<h2>Import New Dataset which include which port provide which type of service</h2>"
   ]
  },
  {
   "cell_type": "code",
   "execution_count": null,
   "metadata": {
    "colab": {
     "base_uri": "https://localhost:8080/"
    },
    "id": "OMRk0GtpSwQc",
    "outputId": "a99548c7-dc43-46be-e010-a1613222269f"
   },
   "outputs": [],
   "source": [
    "tcp_ports = pd.read_csv(\"TCP-ports.csv\")\n",
    "tcp_ports['Service'] = tcp_ports['Service'].str.upper()\n",
    "tcp_ports.shape"
   ]
  },
  {
   "cell_type": "code",
   "execution_count": null,
   "metadata": {
    "colab": {
     "base_uri": "https://localhost:8080/",
     "height": 206
    },
    "id": "leMHWVRfCZ6y",
    "outputId": "3142a4ad-7b08-4404-f7f7-4e10024162be"
   },
   "outputs": [],
   "source": [
    "# tcp_ports.isnull().sum()\n",
    "\n",
    "tcp_ports.head()"
   ]
  },
  {
   "cell_type": "code",
   "execution_count": null,
   "metadata": {
    "colab": {
     "base_uri": "https://localhost:8080/"
    },
    "id": "YRX7HwgPTa2X",
    "outputId": "9151f4d4-acac-4b04-df50-a75a3433d19c"
   },
   "outputs": [],
   "source": [
    "# Merge Two dataset into one\n",
    "\n",
    "print('Columns before merging dataframes: ' ,(df.shape))\n",
    "\n",
    "newdf = pd.merge(df, tcp_ports[['Port','Service']], left_on='Destination Port', right_on='Port', how='left')\n",
    "newdf = newdf.rename(columns={'Service':'Destination Port Service'})\n",
    "\n",
    "print('Columns after merging dataframes: ' + str(newdf.shape))"
   ]
  },
  {
   "cell_type": "code",
   "execution_count": null,
   "metadata": {
    "colab": {
     "base_uri": "https://localhost:8080/",
     "height": 354
    },
    "id": "8o07B27OB9Lt",
    "outputId": "c59a7e6c-6a5e-4bb5-9e85-7ec88aa7e507"
   },
   "outputs": [],
   "source": [
    "newdf.head()"
   ]
  },
  {
   "cell_type": "code",
   "execution_count": null,
   "metadata": {
    "colab": {
     "base_uri": "https://localhost:8080/",
     "height": 354
    },
    "id": "YiZz6EqdDYMO",
    "outputId": "edf9e187-db6e-4939-e668-2e1e4b0fa95f"
   },
   "outputs": [],
   "source": [
    "# Drop Port Column From new dataset\n",
    "\n",
    "newdf = newdf.drop(columns=['Port'])\n",
    "newdf.head()"
   ]
  },
  {
   "cell_type": "code",
   "execution_count": null,
   "metadata": {
    "colab": {
     "base_uri": "https://localhost:8080/"
    },
    "id": "A2GOY-rRDj0w",
    "outputId": "917ddda0-b9c0-4ea7-af0a-89dd2b09ae34"
   },
   "outputs": [],
   "source": [
    "\n",
    "newdf['Attack category'].unique()"
   ]
  },
  {
   "cell_type": "code",
   "execution_count": null,
   "metadata": {
    "colab": {
     "base_uri": "https://localhost:8080/",
     "height": 332
    },
    "id": "vLyjWwUeDn0L",
    "outputId": "7f0ce339-933f-4de2-a923-89b7e5b1c1d6"
   },
   "outputs": [],
   "source": [
    "# How many categories count present in the dataset\n",
    "\n",
    "# newdf['Attack category'].value_counts()\n",
    "pd.DataFrame(newdf['Attack category'].value_counts())[:]\n"
   ]
  },
  {
   "cell_type": "code",
   "execution_count": null,
   "metadata": {
    "colab": {
     "base_uri": "https://localhost:8080/"
    },
    "id": "dKZ_GNCjEUut",
    "outputId": "913c7dcc-b353-48ec-a69d-4ab5727bb848"
   },
   "outputs": [],
   "source": [
    "# What percent of perticular attack with respect to total no of attacks\n",
    "\n",
    "newdf['Attack category'].value_counts()*100/newdf['Attack category'].value_counts().sum()"
   ]
  },
  {
   "cell_type": "code",
   "execution_count": null,
   "metadata": {
    "colab": {
     "base_uri": "https://localhost:8080/",
     "height": 517
    },
    "id": "OpUzVIwIFiqu",
    "outputId": "af5503b7-1138-4051-aabe-5e4ea04359ff"
   },
   "outputs": [],
   "source": [
    "# Graphical Representation of No of Types of attack\n",
    "\n",
    "plt.figure(figsize=(18,8))\n",
    "sns.barplot(x=newdf['Attack category'].value_counts().index,y=newdf['Attack category'].value_counts())\n",
    "plt.xlabel('Attack Category')\n",
    "plt.ylabel('Count')\n",
    "plt.title('Number of attacks per Attack caterogy')\n",
    "plt.grid(True)"
   ]
  },
  {
   "cell_type": "code",
   "execution_count": null,
   "metadata": {
    "id": "a-o-Jw8UF4ki"
   },
   "outputs": [],
   "source": [
    "# Create dataset of top 5 attack categories for Visualization\n",
    "\n",
    "a = pd.DataFrame(newdf['Attack category'].value_counts())[:6]"
   ]
  },
  {
   "cell_type": "code",
   "execution_count": null,
   "metadata": {
    "colab": {
     "base_uri": "https://localhost:8080/",
     "height": 428
    },
    "id": "d1pOHbhpGdv0",
    "outputId": "3d0c0b3b-d045-4461-8a18-76ac1620f0e9"
   },
   "outputs": [],
   "source": [
    "a.plot(kind='pie', subplots=True, figsize=(7, 7))\n",
    "plt.title('Top 5 attacks')\n",
    "# plt.legend(loc='bottom')\n",
    "plt.show()"
   ]
  },
  {
   "cell_type": "markdown",
   "metadata": {
    "id": "3AS0cJXeHWfu"
   },
   "source": [
    "<h2>ANALYSE ATTACKS WITH DATE AND TIME"
   ]
  },
  {
   "cell_type": "code",
   "execution_count": null,
   "metadata": {
    "colab": {
     "base_uri": "https://localhost:8080/",
     "height": 354
    },
    "id": "LZrUUFFwHY0U",
    "outputId": "24342a9e-888a-49e6-bf86-4daf60e7f712"
   },
   "outputs": [],
   "source": [
    "# Convert The raw date n time to standard format of date time for better prediction using build in modules of pandas.\n",
    "\n",
    "\n",
    "newdf['Start Time'] = pd.to_datetime(newdf['Start Time'], unit = 's')\n",
    "newdf['Last Time'] = pd.to_datetime(newdf['Last Time'], unit = 's')\n",
    "\n",
    "# Create new df for duration of attack based on start and last time.\n",
    "newdf['Duration'] = ((newdf['Last Time'] - newdf['Start Time']).dt.seconds).astype(int)\n",
    "newdf.head()"
   ]
  },
  {
   "cell_type": "code",
   "execution_count": null,
   "metadata": {
    "colab": {
     "base_uri": "https://localhost:8080/"
    },
    "id": "EsWYmMASI2HS",
    "outputId": "92736381-d5f3-449d-8361-2349d8f294ce"
   },
   "outputs": [],
   "source": [
    "# So it will convert datatype from int to str and find the 1st unique pair\n",
    "\n",
    "newdf['Start Time'].astype(str).str.split(' ').str[0].unique()"
   ]
  },
  {
   "cell_type": "markdown",
   "metadata": {
    "id": "vbpf2rnAJvyf"
   },
   "source": [
    "<h3>Here we can execute from now on is based on information related to two days, 22nd January 2015, and on 18th February 2015.</h3>"
   ]
  },
  {
   "cell_type": "code",
   "execution_count": null,
   "metadata": {
    "colab": {
     "base_uri": "https://localhost:8080/",
     "height": 300
    },
    "id": "wBqblrOkJyXi",
    "outputId": "50a1d904-865c-4afe-cb93-2c8d7fe2f8d4"
   },
   "outputs": [],
   "source": [
    "newdf.describe()"
   ]
  },
  {
   "cell_type": "markdown",
   "metadata": {
    "id": "B8CPwoZbKzDS"
   },
   "source": [
    "Mean and 75% percentile is very different for Source Port and Destination Port is very different. \n",
    "However minimum and maximum is same. \n",
    "\n",
    "So Here we can use Hypothesis testing."
   ]
  },
  {
   "cell_type": "markdown",
   "metadata": {
    "id": "Dw_RZrxpL3Sd"
   },
   "source": [
    "Here we are assuming source ports are random but attacker try to use lower random ports as destination ports.\n",
    "So we have to check wheather our hypothisis assumption is correct or not, Because if is not correct so we would be adding biased to it. Because we are thinking from our point of view.\n",
    "But we have to check this point statistically, if data is showing that pattern so we have to use Hypothisis Testing."
   ]
  },
  {
   "cell_type": "markdown",
   "metadata": {
    "id": "A9-rTyp9M_c5"
   },
   "source": [
    "Hypothsis Testing is testing our assumption / hypothisis with respective the data.\n",
    "Data is showing some pattern, so if we are assuming this test as correct pattern so we have to perform Hypothesis testing."
   ]
  },
  {
   "cell_type": "markdown",
   "metadata": {
    "id": "VUfhDJRKO8l5"
   },
   "source": [
    "\n",
    "$$ H_0: \\mu_1=\\mu_2$$\n",
    "$$ H_a: \\mu_1\\neq\\mu_2$$"
   ]
  },
  {
   "cell_type": "markdown",
   "metadata": {
    "id": "Gb0VNfViQOFf"
   },
   "source": [
    "1. $ H_0: $ Null Hypothesis\n",
    "        It means no change, mean of source port and destination port is same\n",
    "\n",
    "2. $ H_a: $ Alternate Hypothesis\n",
    "        It is not same, mean of source port and destination port are not same\n",
    "        There would be difference in between source and dest port mean\n",
    "        And we are proving there is difference and our hyposthesis is correct."
   ]
  },
  {
   "cell_type": "markdown",
   "metadata": {
    "id": "XguN4_c6PDQL"
   },
   "source": [
    "We can obtain one of two results from the test:\n",
    "\n",
    "1. If the **$p$-value** is less than our significance level ($p<\\alpha$) we reject the null hypothesis $H_0$ and affirm that the observed difference is **statistically significant**. \n",
    "        The minimum significance value is 0.05 if our significance value is greater than 0.05\n",
    "        Then our assumption is right and there is difference between values.\n",
    "        So we can say that this is Alternate Hypothesis.\n",
    "2. If the **$p$-value** is greater than our significance level ($p>\\alpha$) we will have to retain $H_0$ and conclude that the observed difference **is not statistically significant**. \n",
    "        If our significance value is less than 0.05\n",
    "        Then our assumption is wrong and there is no difference between values.\n",
    "        So we can say that this is Null Hypothesis.\n",
    "\n",
    "The hypothesis test is conducted using a statistical **$T-test$** which specifies the two Series `df_interest['Source Port']` and `df_interest['Destination Port']`. By specifying these two Series, we are automatically referring to a comparative test of the means of both Series:"
   ]
  },
  {
   "cell_type": "code",
   "execution_count": null,
   "metadata": {
    "colab": {
     "base_uri": "https://localhost:8080/"
    },
    "id": "rAtnShcXK0qA",
    "outputId": "af450f1b-7677-45fa-9852-5d97b70704d4"
   },
   "outputs": [],
   "source": [
    "statistic, pvalue = stats.ttest_ind( newdf['Source Port'], newdf['Destination Port'], equal_var=False)\n",
    "print('p-value in T-test: ' + str(pvalue))"
   ]
  },
  {
   "cell_type": "markdown",
   "metadata": {
    "id": "itjm637TV6It"
   },
   "source": [
    "Because the $p$-value is very close to zero, Python approximates this measurement to 0.0. With this in mind, we can reject the null hypothesis $H_0$ regarding the equality of the means of the source and destination ports. This means that the source port of the attacks is very different from the destination port. In this way, most attacks are directed at specific logical ports, which does not leave a random spot"
   ]
  },
  {
   "cell_type": "markdown",
   "metadata": {},
   "source": [
    "\n",
    "\n",
    "---\n",
    "We will be using two methods for correlation calculation:\n",
    "\n",
    "\n",
    "> • **Pearson's correlation:** evaluates the linear relationships between two variables. If the value is close to 0, there is a weak or nonexistent linear relationship between the variables.\n",
    "\n",
    "\n",
    "> • **Spearman's correlation:** evaluates the monotonic relationships between two variables. If the value is close to 0, there is a weak or nonexistent monotonic relationship between the variables.\n",
    "\n"
   ]
  },
  {
   "cell_type": "code",
   "execution_count": null,
   "metadata": {},
   "outputs": [],
   "source": [
    "newdf.corr(method='pearson')"
   ]
  },
  {
   "cell_type": "markdown",
   "metadata": {},
   "source": [
    "1. It shows that correlation is very low i.e. **0.13**.\n",
    "2. It means correlation is not linear."
   ]
  },
  {
   "cell_type": "code",
   "execution_count": null,
   "metadata": {},
   "outputs": [],
   "source": [
    "newdf.corr(method='spearman')\n",
    "# newdf.shape"
   ]
  },
  {
   "cell_type": "markdown",
   "metadata": {},
   "source": [
    "1. Using Spearman it is showing different values.\n",
    "2. Which means you don't need to depend only on Pearson's method.\n",
    "3. Sometimes there is no linear relationship but should be Monotonic Relationship sometimes. Which means non-linear relationship."
   ]
  },
  {
   "cell_type": "code",
   "execution_count": null,
   "metadata": {},
   "outputs": [],
   "source": [
    "# Here we convert categorical data to a numerical data\n",
    "# It will create separate column for each category and mark with the numerical value.\n",
    "\n",
    "dummy_df = pd.get_dummies(newdf, columns = ['Attack category'])\n",
    "\n",
    "dummy_df.head()\n",
    "# dummy_df.shape"
   ]
  },
  {
   "cell_type": "code",
   "execution_count": null,
   "metadata": {},
   "outputs": [],
   "source": [
    "# Create a heat Matrix using Pearson's Co-efficient\n",
    "# It will show the correlation with respect to the Attack Category\n",
    "\n",
    "\n",
    "plt.figure(figsize=(20,8))\n",
    "sns.heatmap(dummy_df.corr(method='pearson'), \n",
    "            annot=True, vmin=-1.0, vmax=1.0, cmap = sns.color_palette(\"RdBu_r\", 15))\n",
    "plt.show()"
   ]
  },
  {
   "cell_type": "code",
   "execution_count": null,
   "metadata": {},
   "outputs": [],
   "source": [
    "# Create a heat Matrix using Spearman's Co-efficient\n",
    "# It will show the correlation with respect to the Attack Category\n",
    "# So here so many values filled with colors,\n",
    "# That means no-correlation values are reduced by using Spearman's Co-efficient\n",
    "\n",
    "\n",
    "plt.figure(figsize=(20,8))\n",
    "sns.heatmap(dummy_df.corr(method='spearman'), \n",
    "            annot=True, vmin=-1.0, vmax=1.0, cmap = sns.color_palette(\"RdBu_r\", 15))\n",
    "plt.show()"
   ]
  },
  {
   "cell_type": "code",
   "execution_count": null,
   "metadata": {},
   "outputs": [],
   "source": [
    "g = sns.pairplot(newdf)\n",
    "g.fig.set_size_inches(14,8)\n",
    "plt.show()"
   ]
  },
  {
   "cell_type": "markdown",
   "metadata": {},
   "source": [
    "1. Here we can see some pattern here\n",
    "2. If look close then see lot of lower destination ports are having a higher duration of attack.\n",
    "3. We can see some pattern where lower dest port are showing high duration of attack of time, and on higher port attack duration is less."
   ]
  },
  {
   "cell_type": "code",
   "execution_count": null,
   "metadata": {},
   "outputs": [],
   "source": [
    "# Now will check how many victims IP's we have in dataset\n",
    "# Which attacker is using as a target.\n",
    "\n",
    "# newdf['Destination IP'].value_counts()\n",
    "\n",
    "pd.DataFrame(newdf['Destination IP'].value_counts())\n"
   ]
  },
  {
   "cell_type": "code",
   "execution_count": null,
   "metadata": {},
   "outputs": [],
   "source": [
    "plt.figure(figsize=(18,7))\n",
    "sns.scatterplot(x = newdf[newdf['Destination IP']=='149.171.126.17']['Start Time'], y=newdf[newdf['Destination IP']=='149.171.126.17']['Destination Port'])\n",
    "# plt.xlim(left = newdf['Start Time'].min()-timedelta(days=1),right=newdf['Start Time'].max()+timedelta(days=1))\n",
    "# plt.grid(True)\n",
    "plt.show()"
   ]
  },
  {
   "cell_type": "code",
   "execution_count": null,
   "metadata": {},
   "outputs": [],
   "source": [
    "# So here we are Zoom in on left side to clearly see the pattern\n",
    "\n",
    "plt.figure(figsize=(18,7))\n",
    "sns.scatterplot(x = newdf[newdf['Destination IP']=='149.171.126.17']['Start Time'], y=newdf[newdf['Destination IP']=='149.171.126.17']['Destination Port'])\n",
    "plt.xlim(left=newdf['Start Time'].min(),right=datetime.strptime('15-01-23', '%y-%m-%d'))\n",
    "plt.grid(True)\n",
    "plt.show()"
   ]
  },
  {
   "cell_type": "code",
   "execution_count": null,
   "metadata": {},
   "outputs": [],
   "source": [
    "# So here we are Zoom in on right side to clearly see the pattern\n",
    "\n",
    "\n",
    "plt.figure(figsize=(18,7))\n",
    "sns.scatterplot(x = newdf[newdf['Destination IP']=='149.171.126.17']['Start Time'], y=newdf[newdf['Destination IP']=='149.171.126.17']['Destination Port'])\n",
    "plt.xlim(left=datetime.strptime('15-02-18', '%y-%m-%d'),right=newdf['Start Time'].max())\n",
    "# plt.grid(True)\n",
    "plt.show()"
   ]
  },
  {
   "cell_type": "code",
   "execution_count": null,
   "metadata": {},
   "outputs": [],
   "source": [
    "# Here we zoom into lower range as we see lot of noise there.\n",
    "# So here we consider the ports under 201 for visualization.\n",
    "# Here we use Attack Category as a hue, so that we can clearly se which Attack is frequently used for specific port.\n",
    "\n",
    "\n",
    "plt.figure(figsize=(20,10))\n",
    "sns.scatterplot(x = 'Start Time', y = 'Destination Port', hue = 'Attack category', \n",
    "                data = newdf[(newdf['Destination IP'] == '149.171.126.17') & (newdf['Destination Port'] <= 150)], s = 80 )\n",
    "\n",
    "plt.xlim(left=datetime.strptime('15-02-18 00:00:00', '%y-%m-%d %H:%M:%S'),\n",
    "         right=datetime.strptime('15-02-18 13:00:00', '%y-%m-%d %H:%M:%S'))\n",
    "plt.grid(True)\n",
    "plt.show()\n"
   ]
  },
  {
   "cell_type": "markdown",
   "metadata": {},
   "source": [
    "1. Here we can see that there are mainly Generic Attacks on Port zero.\n",
    "2. And we can see clearly that on Port No 80 There are Huge Frequency of Attacks of all Categories.\n",
    "3. And we know that it is used by HTTP protocol,So we can say that Port 80 is vulnerable for attacks.\n",
    "4. Similarly Port 110 is also have huge amount of frequency of Attack. and it is assigned to POP3 protocol. Which used for unencrypted assess to Emails."
   ]
  },
  {
   "cell_type": "markdown",
   "metadata": {},
   "source": [
    "### Duration and Destination Ports"
   ]
  },
  {
   "cell_type": "code",
   "execution_count": null,
   "metadata": {},
   "outputs": [],
   "source": [
    "# So here we are using only one IP is which is attacked most frequently i.e. 149.171.126.17\n",
    "\n",
    "pd.DataFrame(newdf['Destination IP'].value_counts())[:1]"
   ]
  },
  {
   "cell_type": "code",
   "execution_count": null,
   "metadata": {},
   "outputs": [],
   "source": [
    "# \n",
    "\n",
    "plt.figure(figsize=(20,10))\n",
    "sns.scatterplot(x = 'Destination Port', y = 'Duration', hue = 'Attack category', \n",
    "                data = newdf[newdf['Destination IP'] == '149.171.126.17'])\n",
    "# plt.grid(True)\n",
    "# plt.show()"
   ]
  },
  {
   "cell_type": "markdown",
   "metadata": {},
   "source": [
    "1. Here we can see on lower ports the attacks last Higher durations and on higher ports attack lasts Short Duration of time.\n"
   ]
  },
  {
   "cell_type": "code",
   "execution_count": null,
   "metadata": {},
   "outputs": [],
   "source": [
    "# So here we can draw violin plot.\n",
    "# It is conmbination of Box plot and Probality Distribution graph.\n",
    "\n",
    "plt.figure(figsize=(20,10))\n",
    "sns.violinplot(x = 'Attack category', y = 'Duration', data = newdf)"
   ]
  },
  {
   "cell_type": "markdown",
   "metadata": {},
   "source": [
    "Now we can analyzing between the attacks and the hour, at which perticular hour no of attacks getting increases.\n",
    "So we just fetch the hours from Start Time"
   ]
  },
  {
   "cell_type": "code",
   "execution_count": null,
   "metadata": {},
   "outputs": [],
   "source": [
    "newdf['Start Time'][1].hour\n"
   ]
  },
  {
   "cell_type": "code",
   "execution_count": null,
   "metadata": {},
   "outputs": [],
   "source": [
    "# Here we create new dataframe which is Hour, which will fetch hour from start time \n",
    "\n",
    "pivotDF = newdf.copy()\n",
    "pivotDF['Hour'] = pivotDF.apply(lambda row: '0'*(2-len(str(row['Start Time'].hour))) + str(row['Start Time'].hour)+':00:00', axis=1)\n",
    "\n",
    "pivotDF.head()"
   ]
  },
  {
   "cell_type": "code",
   "execution_count": null,
   "metadata": {},
   "outputs": [],
   "source": [
    "# So here we create pivot table\n",
    "# It will show that how many no of attacks of different categories are happened at which Hour Time\n",
    "\n",
    "pivotDF1 = pd.pivot_table(pivotDF,values='Attack Name', index=['Hour'], columns=['Attack category'], aggfunc='count')\n",
    "pivotDF1"
   ]
  },
  {
   "cell_type": "markdown",
   "metadata": {},
   "source": [
    "#### Here we create function to plot heatmap so no need to repeat the task again and again."
   ]
  },
  {
   "cell_type": "code",
   "execution_count": null,
   "metadata": {},
   "outputs": [],
   "source": [
    "def heatMap(df, xlabel, ylabel, title):\n",
    "    plt.figure(figsize=(20,10))\n",
    "    ax = sns.heatmap(df)\n",
    "    plt.xlabel(xlabel)\n",
    "    plt.ylabel(ylabel)\n",
    "    plt.title(title)\n",
    "\n",
    "    plt.xticks(rotation=90)\n",
    "    plt.yticks(rotation=0)\n",
    "    plt.show()"
   ]
  },
  {
   "cell_type": "markdown",
   "metadata": {},
   "source": [
    "To see clear pattern of attack categories of perticular hours we now using heatmap. And for that we gone use funtion create earlier before."
   ]
  },
  {
   "cell_type": "code",
   "execution_count": null,
   "metadata": {},
   "outputs": [],
   "source": [
    "heatMap(pivotDF1, 'Attack category', 'Hour', 'No of attacks per hour and attack type')"
   ]
  },
  {
   "cell_type": "markdown",
   "metadata": {},
   "source": [
    "1. So clearly we can see that the DOS attacks pattern are incresed during odd hours and decreased during even hours.\n",
    "2. Simmilary happend with Exploits attack. These type of attack Incresed during odd hours. At midnight attacks increases.\n",
    "3. And from this pattern we can see that attackers know something about organization. So it could be reason so attacker are planning to attack only on odd hours.\n",
    "4. There could be reason such as, emp on rest or is there any backup or security process runs during odd hours.\n",
    "\n"
   ]
  },
  {
   "cell_type": "code",
   "execution_count": null,
   "metadata": {},
   "outputs": [],
   "source": [
    "heatMap(pivotDF1/pivotDF1.sum(), 'Attack category', 'Hour', 'Percentage of attacks attack/hour time')"
   ]
  },
  {
   "cell_type": "markdown",
   "metadata": {},
   "source": [
    "<hr><br>\n",
    "To see clear pattern of percentage of attack per IP with respective to hours we now using heatmap.\n",
    "1. Here we select Destinations IPs which all are the Destinations IP which are gatting attacked and is there any pattern between those IP addresses.\n",
    "2. Like one IP getting more attacks on Odd hours/ even hours."
   ]
  },
  {
   "cell_type": "code",
   "execution_count": null,
   "metadata": {},
   "outputs": [],
   "source": [
    "pivotDF2 = pd.pivot_table(pivotDF, values='Attack Name', index=['Hour'], columns=['Destination IP'], aggfunc='count')\n",
    "heatMap(pivotDF2/pivotDF2.sum(), 'Destination IP', 'Hour', 'Percentage of attacks per IP and hour')"
   ]
  },
  {
   "cell_type": "markdown",
   "metadata": {},
   "source": [
    "So here we can se that, for example 149.171.126.13 IP address getting attacked More in 01:00:00 Hour, Simillarly with 149.171.126.19 IP attacked at 3 O'clock\n",
    "<hr>"
   ]
  },
  {
   "cell_type": "markdown",
   "metadata": {},
   "source": [
    "Although there are more than 170,000 records related to cybersecurity attacks, these attacks target 10 servers with IPv4 addresses in the interval  [149.171.126.10 --> 149.171.126.19] . \n",
    "\n",
    "This means that the company was attacked on multiple occasions during the observed timeframe, on a specific subnet, which denotes a non-accidental and directed succession of events."
   ]
  },
  {
   "cell_type": "markdown",
   "metadata": {},
   "source": [
    "<hr><br>\n",
    "\n",
    "Here we are showing HeatMap for Different Attacks per Destination IP address\n",
    "\n",
    "\n",
    "Which showing for which perticular IP There are which type of attacks more"
   ]
  },
  {
   "cell_type": "code",
   "execution_count": null,
   "metadata": {},
   "outputs": [],
   "source": [
    "pivotDF3 = pd.pivot_table(pivotDF, values='Attack Name', index=['Destination IP'], columns=['Attack category'], aggfunc='count')\n",
    "heatMap(pivotDF3/pivotDF3.sum(), 'Attack category', 'Destination IP', 'No of Attack Types/IP')"
   ]
  },
  {
   "cell_type": "markdown",
   "metadata": {},
   "source": [
    "Let's now look at this same relationship per attack category performing a pair-wise **$T-test$**:"
   ]
  },
  {
   "cell_type": "code",
   "execution_count": null,
   "metadata": {},
   "outputs": [],
   "source": [
    "for attack in list(newdf['Attack category'].unique()):\n",
    "    df_attack = newdf[newdf['Attack category'] == attack].copy()\n",
    "    statistic, pvalue = stats.ttest_ind(df_attack['Source Port'], df_attack['Destination Port'], equal_var=False)\n",
    "    print('p-value in T-test for ' + attack + ' attack: ' + str(pvalue))"
   ]
  },
  {
   "cell_type": "code",
   "execution_count": null,
   "metadata": {},
   "outputs": [],
   "source": [
    "# Source ports\n",
    "plt.figure(figsize=(16,5))\n",
    "sns.stripplot(x='Attack category',y='Source Port',data=newdf)\n",
    "plt.show()"
   ]
  },
  {
   "cell_type": "code",
   "execution_count": null,
   "metadata": {},
   "outputs": [],
   "source": [
    "# Destination ports\n",
    "plt.figure(figsize=(16,5))\n",
    "sns.stripplot(x='Attack category',y='Destination Port',data=newdf)\n",
    "plt.show()"
   ]
  },
  {
   "cell_type": "markdown",
   "metadata": {},
   "source": [
    "Here we can view of the distribution of destination ports by attack category and source IP:"
   ]
  },
  {
   "cell_type": "code",
   "execution_count": null,
   "metadata": {},
   "outputs": [],
   "source": [
    "ips = list(newdf['Source IP'].unique())\n",
    "f, axes = plt.subplots(2, 2)\n",
    "f.set_figheight(10)\n",
    "f.set_figwidth(15)\n",
    "\n",
    "labels = list(newdf['Attack category'].unique())\n",
    "for i, ip in enumerate(ips):\n",
    "    sns.stripplot(x='Attack category',y='Destination Port',data=newdf[newdf['Source IP'] == ip], order=labels, ax=axes[int(i/2)][i%2])\n",
    "    axes[int(i/2)][i%2].set_xlabel('Attack category')\n",
    "    axes[int(i/2)][i%2].set_ylabel('Destination Port')\n",
    "    axes[int(i/2)][i%2].set_title('Destination Port distribution - Attacker IPv4 Address: ' + ip)\n",
    "    axes[int(i/2)][i%2].set_xticklabels(labels,rotation=90)\n",
    "plt.tight_layout()\n",
    "plt.show()"
   ]
  },
  {
   "cell_type": "markdown",
   "metadata": {},
   "source": [
    "Here we can view of the distribution of destination ports by attack category and destination IP:"
   ]
  },
  {
   "cell_type": "code",
   "execution_count": null,
   "metadata": {},
   "outputs": [],
   "source": [
    "ips = list(newdf['Destination IP'].unique())\n",
    "f, axes = plt.subplots(5, 2)\n",
    "f.set_figheight(25)\n",
    "f.set_figwidth(15)\n",
    "\n",
    "labels = list(newdf['Attack category'].unique())\n",
    "\n",
    "for i, ip in enumerate(ips):\n",
    "    sns.stripplot(x='Attack category',y='Destination Port',data=newdf[newdf['Destination IP'] == ip], order=labels, ax=axes[int(i/2)][i%2])\n",
    "    axes[int(i/2)][i%2].set_xlabel('Attack category')\n",
    "    axes[int(i/2)][i%2].set_ylabel('Destination Port')\n",
    "    axes[int(i/2)][i%2].set_title('Destination Port distribution - Target IPv4 Address: ' + ip)\n",
    "    axes[int(i/2)][i%2].set_xticklabels(labels,rotation=90)\n",
    "plt.tight_layout()\n",
    "plt.show()"
   ]
  },
  {
   "cell_type": "markdown",
   "metadata": {},
   "source": [
    "\n",
    "<li>These graphs show us that there is a differentiation in the way in which the attacks are performing their tasks.\n",
    "\n",
    "<li>There is a particularization by the targets, something that does not happen with the source devices.\n"
   ]
  }
 ],
 "metadata": {
  "colab": {
   "collapsed_sections": [],
   "provenance": []
  },
  "kernelspec": {
   "display_name": "Python 3 (ipykernel)",
   "language": "python",
   "name": "python3"
  },
  "language_info": {
   "codemirror_mode": {
    "name": "ipython",
    "version": 3
   },
   "file_extension": ".py",
   "mimetype": "text/x-python",
   "name": "python",
   "nbconvert_exporter": "python",
   "pygments_lexer": "ipython3",
   "version": "3.9.12"
  },
  "vscode": {
   "interpreter": {
    "hash": "411a38ff57f6496edb71a2c74d2497e9b5dbdef6dec3b92120a30eb2098dc171"
   }
  }
 },
 "nbformat": 4,
 "nbformat_minor": 1
}
